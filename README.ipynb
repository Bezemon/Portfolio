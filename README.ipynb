# Preço Médio da Gasolina - Primeiros 10 dias de Julho de 2021 em SP

## Descrição

Este é um projeto em Python para visualizar o preço médio da gasolina em São Paulo durante os 10 primeiros dias de Julho de 2021.
